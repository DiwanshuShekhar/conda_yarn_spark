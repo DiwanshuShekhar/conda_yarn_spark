{
 "cells": [
  {
   "cell_type": "code",
   "execution_count": 1,
   "metadata": {},
   "outputs": [
    {
     "data": {
      "text/plain": [
       "'2.4.3'"
      ]
     },
     "execution_count": 1,
     "metadata": {},
     "output_type": "execute_result"
    }
   ],
   "source": [
    "spark.version"
   ]
  },
  {
   "cell_type": "code",
   "execution_count": 2,
   "metadata": {},
   "outputs": [
    {
     "name": "stdout",
     "output_type": "stream",
     "text": [
      "/home/guest/a76295/.conda/envs/condasparkyarn/bin/pyspark\r\n"
     ]
    }
   ],
   "source": [
    "!which pyspark"
   ]
  },
  {
   "cell_type": "code",
   "execution_count": 5,
   "metadata": {},
   "outputs": [],
   "source": [
    "# script.py\n",
    "from pyspark import SparkConf\n",
    "from pyspark import SparkContext\n",
    "\n",
    "def some_function(x):\n",
    "    # Packages are imported and available from your bundled environment.\n",
    "    import sklearn\n",
    "    import pandas\n",
    "    import numpy as np\n",
    "\n",
    "    # Use the libraries to do work\n",
    "    return np.sin(x)**2 + 2\n",
    "\n",
    "rdd = (sc.parallelize(range(1000))\n",
    "         .map(some_function)\n",
    "         .take(10))"
   ]
  },
  {
   "cell_type": "code",
   "execution_count": 6,
   "metadata": {},
   "outputs": [
    {
     "data": {
      "text/plain": [
       "[2.0,\n",
       " 2.708073418273571,\n",
       " 2.826821810431806,\n",
       " 2.019914856674817,\n",
       " 2.5727500169043065,\n",
       " 2.9195357645382263,\n",
       " 2.078073020633754,\n",
       " 2.431631390896083,\n",
       " 2.978829740161692,\n",
       " 2.16984164587796]"
      ]
     },
     "execution_count": 6,
     "metadata": {},
     "output_type": "execute_result"
    }
   ],
   "source": [
    "rdd"
   ]
  },
  {
   "cell_type": "code",
   "execution_count": 7,
   "metadata": {},
   "outputs": [
    {
     "name": "stdout",
     "output_type": "stream",
     "text": [
      "# packages in environment at /home/guest/a76295/.conda/envs/condasparkyarn:\r\n",
      "#\r\n",
      "# Name                    Version                   Build  Channel\r\n",
      "_libgcc_mutex             0.1                        main  []\r\n",
      "backcall                  0.1.0                    py35_0  []\r\n",
      "blas                      1.0                         mkl  []\r\n",
      "bleach                    2.1.4                    py35_0  []\r\n",
      "ca-certificates           2019.5.15                     1  []\r\n",
      "certifi                   2018.8.24                py35_1  []\r\n",
      "conda-pack                0.4.0                      py_0  []  conda-forge\r\n",
      "dbus                      1.13.6               h746ee38_0  []\r\n",
      "decorator                 4.4.0                      py_0  []\r\n",
      "defusedxml                0.6.0                      py_0  []\r\n",
      "entrypoints               0.2.3                    py35_2  []\r\n",
      "expat                     2.2.6                he6710b0_0  []\r\n",
      "fontconfig                2.13.0               h9420a91_0  []\r\n",
      "freetype                  2.9.1                h8a8886c_1  []\r\n",
      "glib                      2.56.2               hd408876_0  []\r\n",
      "gmp                       6.1.2                h6c8ec71_1  []\r\n",
      "gst-plugins-base          1.14.0               hbbd80ab_1  []\r\n",
      "gstreamer                 1.14.0               hb453b48_1  []\r\n",
      "html5lib                  1.0.1                      py_0  []\r\n",
      "icu                       58.2                 h9c2bf20_1  []\r\n",
      "intel-openmp              2019.4                      243  []\r\n",
      "ipykernel                 4.10.0                   py35_0  []\r\n",
      "ipython                   6.5.0                    py35_0  []\r\n",
      "ipython_genutils          0.2.0            py35hc9e07d0_0  []\r\n",
      "ipywidgets                7.4.1                    py35_0  []\r\n",
      "jedi                      0.12.1                   py35_0  []\r\n",
      "jinja2                    2.10                     py35_0  []\r\n",
      "jpeg                      9b                   h024ee3a_2  []\r\n",
      "jsonschema                2.6.0            py35h4395190_0  []\r\n",
      "jupyter                   1.0.0                    py35_7  []\r\n",
      "jupyter_client            5.3.1                      py_0  []\r\n",
      "jupyter_console           5.2.0            py35h4044a63_1  []\r\n",
      "jupyter_core              4.5.0                      py_0  []\r\n",
      "libedit                   3.1.20181209         hc058e9b_0  []\r\n",
      "libffi                    3.2.1                hd88cf55_4  []\r\n",
      "libgcc-ng                 9.1.0                hdf63c60_0  []\r\n",
      "libgfortran-ng            7.3.0                hdf63c60_0  []\r\n",
      "libpng                    1.6.37               hbc83047_0  []\r\n",
      "libsodium                 1.0.16               h1bed415_0  []\r\n",
      "libstdcxx-ng              9.1.0                hdf63c60_0  []\r\n",
      "libuuid                   1.0.3                h1bed415_2  []\r\n",
      "libxcb                    1.13                 h1bed415_1  []\r\n",
      "libxml2                   2.9.9                hea5a465_1  []\r\n",
      "markupsafe                1.0              py35h14c3975_1  []\r\n",
      "mistune                   0.8.3            py35h14c3975_1  []\r\n",
      "mkl                       2018.0.3                      1  []\r\n",
      "mkl_fft                   1.0.6            py35h7dd41cf_0  []\r\n",
      "mkl_random                1.0.1            py35h4414c95_1  []\r\n",
      "nbconvert                 5.5.0                      py_0  []\r\n",
      "nbformat                  4.4.0            py35h12e6e07_0  []\r\n",
      "ncurses                   6.1                  he6710b0_1  []\r\n",
      "notebook                  5.6.0                    py35_0  []\r\n",
      "numpy                     1.15.2           py35h1d66e8a_0  []\r\n",
      "numpy-base                1.15.2           py35h81de0dd_0  []\r\n",
      "openssl                   1.0.2s               h7b6447c_0  []\r\n",
      "pandas                    0.23.4           py35h04863e7_0  []\r\n",
      "pandoc                    2.2.3.2                       0  []\r\n",
      "pandocfilters             1.4.2                    py35_1  []\r\n",
      "parso                     0.5.0                      py_0  []\r\n",
      "pcre                      8.43                 he6710b0_0  []\r\n",
      "pexpect                   4.6.0                    py35_0  []\r\n",
      "pickleshare               0.7.4            py35hd57304d_0  []\r\n",
      "pip                       10.0.1                   py35_0  []\r\n",
      "prometheus_client         0.7.1                      py_0  []\r\n",
      "prompt_toolkit            1.0.15           py35hc09de7a_0  []\r\n",
      "ptyprocess                0.6.0                    py35_0  []\r\n",
      "py4j                      0.10.7                   py35_0  []\r\n",
      "pygments                  2.4.2                      py_0  []\r\n",
      "pyqt                      5.9.2            py35h05f1152_2  []\r\n",
      "pyspark                   2.4.3                      py_0  []\r\n",
      "python                    3.5.6                hc3d631a_0  []\r\n",
      "python-dateutil           2.7.3                    py35_0  []\r\n",
      "pytz                      2019.1                     py_0  []\r\n",
      "pyzmq                     17.1.2           py35h14c3975_0  []\r\n",
      "qt                        5.9.6                h8703b6f_2  []\r\n",
      "qtconsole                 4.5.2                      py_0  []\r\n",
      "readline                  7.0                  h7b6447c_5  []\r\n",
      "scikit-learn              0.20.0           py35h4989274_1  []\r\n",
      "scipy                     1.1.0            py35hfa4b5c9_1  []\r\n",
      "send2trash                1.5.0                    py35_0  []\r\n",
      "setuptools                40.2.0                   py35_0  []\r\n",
      "simplegeneric             0.8.1                    py35_2  []\r\n",
      "sip                       4.19.8           py35hf484d3e_0  []\r\n",
      "six                       1.11.0                   py35_1  []\r\n",
      "sqlite                    3.29.0               h7b6447c_0  []\r\n",
      "terminado                 0.8.1                    py35_1  []\r\n",
      "testpath                  0.3.1            py35had42eaf_0  []\r\n",
      "tk                        8.6.8                hbc83047_0  []\r\n",
      "tornado                   5.1.1            py35h7b6447c_0  []\r\n",
      "traitlets                 4.3.2            py35ha522a97_0  []\r\n",
      "wcwidth                   0.1.7            py35hcd08066_0  []\r\n",
      "webencodings              0.5.1                    py35_1  []\r\n",
      "wheel                     0.31.1                   py35_0  []\r\n",
      "widgetsnbextension        3.4.1                    py35_0  []\r\n",
      "xz                        5.2.4                h14c3975_4  []\r\n",
      "zeromq                    4.2.5                hf484d3e_1  []\r\n",
      "zlib                      1.2.11               h7b6447c_3  []\r\n"
     ]
    }
   ],
   "source": [
    "!conda list"
   ]
  },
  {
   "cell_type": "code",
   "execution_count": 8,
   "metadata": {},
   "outputs": [
    {
     "data": {
      "text/html": [
       "\n",
       "        <div>\n",
       "            <p><b>SparkContext</b></p>\n",
       "\n",
       "            <p><a href=\"http://usdenprh119.arrow.com:4040\">Spark UI</a></p>\n",
       "\n",
       "            <dl>\n",
       "              <dt>Version</dt>\n",
       "                <dd><code>v2.4.3</code></dd>\n",
       "              <dt>Master</dt>\n",
       "                <dd><code>yarn</code></dd>\n",
       "              <dt>AppName</dt>\n",
       "                <dd><code>PySparkShell</code></dd>\n",
       "            </dl>\n",
       "        </div>\n",
       "        "
      ],
      "text/plain": [
       "<SparkContext master=yarn appName=PySparkShell>"
      ]
     },
     "execution_count": 8,
     "metadata": {},
     "output_type": "execute_result"
    }
   ],
   "source": [
    "sc"
   ]
  },
  {
   "cell_type": "code",
   "execution_count": null,
   "metadata": {},
   "outputs": [],
   "source": []
  }
 ],
 "metadata": {
  "kernelspec": {
   "display_name": "Python 3",
   "language": "python",
   "name": "python3"
  },
  "language_info": {
   "codemirror_mode": {
    "name": "ipython",
    "version": 3
   },
   "file_extension": ".py",
   "mimetype": "text/x-python",
   "name": "python",
   "nbconvert_exporter": "python",
   "pygments_lexer": "ipython3",
   "version": "3.5.6"
  }
 },
 "nbformat": 4,
 "nbformat_minor": 2
}
